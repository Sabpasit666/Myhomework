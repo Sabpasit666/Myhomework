{
 "cells": [
  {
   "cell_type": "code",
   "execution_count": 1,
   "id": "01dc414e-4c7d-41a8-a563-3639e62decbc",
   "metadata": {
    "tags": []
   },
   "outputs": [
    {
     "name": "stdout",
     "output_type": "stream",
     "text": [
      "สรรพสิทธิ์ ยาเคน\n"
     ]
    }
   ],
   "source": [
    "print (\"สรรพสิทธิ์ ยาเคน\")"
   ]
  },
  {
   "cell_type": "code",
   "execution_count": null,
   "id": "c848352c-e173-4543-840b-3f515cb35393",
   "metadata": {},
   "outputs": [],
   "source": []
  }
 ],
 "metadata": {
  "kernelspec": {
   "display_name": "Python 3 (ipykernel)",
   "language": "python",
   "name": "python3"
  },
  "language_info": {
   "codemirror_mode": {
    "name": "ipython",
    "version": 3
   },
   "file_extension": ".py",
   "mimetype": "text/x-python",
   "name": "python",
   "nbconvert_exporter": "python",
   "pygments_lexer": "ipython3",
   "version": "3.11.5"
  }
 },
 "nbformat": 4,
 "nbformat_minor": 5
}
