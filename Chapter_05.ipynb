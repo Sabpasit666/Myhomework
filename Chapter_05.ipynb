{
 "cells": [
  {
   "cell_type": "markdown",
   "metadata": {},
   "source": [
    "# แบบฝึกหัด บทที่ 5 ตัวแปรและประเภทข้อมูล"
   ]
  },
  {
   "cell_type": "code",
   "execution_count": null,
   "metadata": {},
   "outputs": [],
   "source": [
    "\"\"\"\n",
    "ชื่อ - สกุล - รหัส\n",
    "นาย สรรพสิทธิ์ ยาเคน 6612732132\n",
    "\n",
    "\"\"\""
   ]
  },
  {
   "cell_type": "markdown",
   "metadata": {},
   "source": [
    "## 1.\tประเภทของตัวเลขที่ภาษาไพธอนให้การรองรับมีอะไรบ้าง"
   ]
  },
  {
   "cell_type": "code",
   "execution_count": null,
   "metadata": {},
   "outputs": [],
   "source": [
    "ไพทอนรองรับข้อมูลชนิดตัวเลขทั้ง 4 ชนิดดังนี้\n",
    "\n",
    "int (signed integers) − เรามักเรียกข้อมูลประเภทนี้ว่า จำนวนเต็ม (Integer), ซึ่งเป็นได้ทั้งตัวเลขจำนวนเต็มบวก หรือเต็มลบก็ได้ ในระบบเลขฐาน 10.\n",
    "\n",
    "long (long integers) − เป็นข้อมูลจำนวนเต็มที่ไม่ได้จำกัดขนาด แต่จะเขียนตามด้วยตัว L ตัวเล็กหรือตัวใหญ่ก็ได้.\n",
    "\n",
    "float (floating point real values) − เป็นข้อมูลตัวเลขประเภทจำนวนจริง ซึ่งจะเรียนในรูปแบบตัวเลขทศนิยม และ Floats อาจใช้เขียนในรูปแบบสัญลักษณ์ทางวิทยาศาสตร์ ซึ่งใช้ E หรือ e ในการแทนเลขยกกำลัง 10 (2.5e2 = 2.5 x 102 = 250).\n",
    "\n",
    "complex (complex numbers) − คือข้อมูลที่ถูกเขียนในรูปของ a + bJ, โดย a และ b คือจำนวนจริง และ J คือค่ารากที่สองของ -1 โดย Complex numbers ไม่ค่อยได้ถูกใช้ในการเขียนโปรแกรมในภาษาไพทอน"
   ]
  },
  {
   "cell_type": "markdown",
   "metadata": {},
   "source": [
    "## 2.จงแสดงชนิดข้อมูลของตัวแปร a และ b"
   ]
  },
  {
   "cell_type": "code",
   "execution_count": null,
   "metadata": {},
   "outputs": [],
   "source": [
    "\"\"\"\n",
    "a = 15.50\n",
    "b = ‘Python’ \n",
    "จงแสดงชนิดข้อมูลของตัวแปร a และ b\n",
    "\"\"\""
   ]
  },
  {
   "cell_type": "code",
   "execution_count": 9,
   "metadata": {},
   "outputs": [
    {
     "name": "stdout",
     "output_type": "stream",
     "text": [
      "<class 'float'>\n",
      "<class 'str'>\n"
     ]
    }
   ],
   "source": [
    "a = 15.50\n",
    "b = 'Python'\n",
    "print(type(15.50))\n",
    "print(type(\"Python\"))"
   ]
  },
  {
   "cell_type": "markdown",
   "metadata": {},
   "source": [
    "## 3.จงใช้คำสั่ง print() เพื่อแสดงสตริงต่อไปนี้\n",
    "\n",
    "- Jane's teacher says \"You have to study hard\" –"
   ]
  },
  {
   "cell_type": "code",
   "execution_count": 2,
   "metadata": {},
   "outputs": [
    {
     "name": "stdout",
     "output_type": "stream",
     "text": [
      "Jane's teacher says \"You have to study hard\"–\n"
     ]
    }
   ],
   "source": [
    "print(\"Jane's teacher says \\\"You have to study hard\\\"–\")\n"
   ]
  },
  {
   "cell_type": "markdown",
   "metadata": {},
   "source": [
    "## 4.\tจงแสดงผลลัพธ์ของคำสั่งต่อไปนี้ "
   ]
  },
  {
   "cell_type": "code",
   "execution_count": null,
   "metadata": {},
   "outputs": [],
   "source": [
    "\"\"\"\n",
    "print(\"{2} {0} {1}\".format(\"apple\", \n",
    "         \"pineapple\", \n",
    "         \"banana\"))\n",
    "\"\"\""
   ]
  },
  {
   "cell_type": "code",
   "execution_count": 4,
   "metadata": {
    "tags": []
   },
   "outputs": [
    {
     "name": "stdout",
     "output_type": "stream",
     "text": [
      "banana apple pineapple\n"
     ]
    }
   ],
   "source": [
    "print(\"{2} {0} {1}\".format(\"apple\", \n",
    "         \"pineapple\", \n",
    "         \"banana\"))"
   ]
  },
  {
   "cell_type": "markdown",
   "metadata": {},
   "source": [
    "## 5. กำหนดให้ตัวแปร "
   ]
  },
  {
   "cell_type": "code",
   "execution_count": null,
   "metadata": {},
   "outputs": [],
   "source": [
    "\"\"\"\n",
    "pi = 3.141592653589\n",
    "จงแสดงค่าของตัวแปร pi ออกทางหน้าจอให้มีทศนิยมเพียง 3 จุด\n",
    "\"\"\""
   ]
  },
  {
   "cell_type": "code",
   "execution_count": 3,
   "metadata": {},
   "outputs": [
    {
     "name": "stdout",
     "output_type": "stream",
     "text": [
      "pi : 3.142\n"
     ]
    }
   ],
   "source": [
    "pi = 3.141592653589\n",
    "print(\"pi : {0:.3f}\".format(pi))"
   ]
  },
  {
   "cell_type": "markdown",
   "metadata": {},
   "source": [
    "## 6.กำหนดให้ \n",
    "\n",
    "str = \"Python Programming\"\n",
    "\n",
    "จงหาผลลัพธ์ของ str[7:]\n"
   ]
  },
  {
   "cell_type": "code",
   "execution_count": 6,
   "metadata": {},
   "outputs": [
    {
     "data": {
      "text/plain": [
       "'Programming'"
      ]
     },
     "execution_count": 6,
     "metadata": {},
     "output_type": "execute_result"
    }
   ],
   "source": [
    "str = \"Python Programming\"\n",
    "str[7:]\n"
   ]
  },
  {
   "cell_type": "markdown",
   "metadata": {},
   "source": [
    "## 7.จงอธิบายความแตกต่างระหว่างลิสต์และทัพเพิล"
   ]
  },
  {
   "cell_type": "code",
   "execution_count": null,
   "metadata": {},
   "outputs": [],
   "source": [
    "ลีสต์เป็นโครงสร้างข้อมูลที่สามารถเปลี่ยนแปลงได้ \n",
    "ทัพเพิลเป็นโครงสร้างข้อมูลที่ไม่สามารถเปลี่ยนแปลงได"
   ]
  }
 ],
 "metadata": {
  "interpreter": {
   "hash": "40d3a090f54c6569ab1632332b64b2c03c39dcf918b08424e98f38b5ae0af88f"
  },
  "kernelspec": {
   "display_name": "Python 3 (ipykernel)",
   "language": "python",
   "name": "python3"
  },
  "language_info": {
   "codemirror_mode": {
    "name": "ipython",
    "version": 3
   },
   "file_extension": ".py",
   "mimetype": "text/x-python",
   "name": "python",
   "nbconvert_exporter": "python",
   "pygments_lexer": "ipython3",
   "version": "3.11.5"
  }
 },
 "nbformat": 4,
 "nbformat_minor": 4
}
