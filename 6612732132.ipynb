{
 "cells": [
  {
   "cell_type": "markdown",
   "id": "ff4162f2-59bd-4189-9f68-2f308edae933",
   "metadata": {},
   "source": [
    "นาย สรรพสิทธิ์ ยาเคน 6612732132"
   ]
  },
  {
   "cell_type": "code",
   "execution_count": 43,
   "id": "36e9aecf-a3dd-44a9-9a66-6d03f4a766fe",
   "metadata": {
    "tags": []
   },
   "outputs": [
    {
     "name": "stdout",
     "output_type": "stream",
     "text": [
      " *\n",
      " * *\n",
      " * * *\n",
      " * * * *\n",
      " * * * * *\n"
     ]
    }
   ],
   "source": [
    "for i in range (1,6):\n",
    "    print( ' *' * i)"
   ]
  },
  {
   "cell_type": "code",
   "execution_count": 44,
   "id": "67460094-b51d-4971-8db4-c96d3966e811",
   "metadata": {
    "tags": []
   },
   "outputs": [
    {
     "name": "stdout",
     "output_type": "stream",
     "text": [
      " * * * * *\n",
      " * * * *\n",
      " * * *\n",
      " * *\n",
      " *\n"
     ]
    }
   ],
   "source": [
    "for i in range (5, 0, -1):\n",
    "    print( ' *' * i)"
   ]
  },
  {
   "cell_type": "code",
   "execution_count": 42,
   "id": "32f59290-3651-4af5-a3e9-548e0b6a57f8",
   "metadata": {
    "tags": []
   },
   "outputs": [
    {
     "name": "stdout",
     "output_type": "stream",
     "text": [
      "           *\n",
      "         * *\n",
      "       * * *\n",
      "     * * * *\n",
      "   * * * * *\n",
      " * * * * * *\n"
     ]
    }
   ],
   "source": [
    "num = 6\n",
    "end = num - 1\n",
    "for i in range (0, num):\n",
    "    for j in range(0, num):\n",
    "        if j >= end - i:\n",
    "            print(\" *\", end=\"\")\n",
    "        else:\n",
    "            print(\"  \", end=\"\")\n",
    "    print()"
   ]
  }
 ],
 "metadata": {
  "kernelspec": {
   "display_name": "Python 3 (ipykernel)",
   "language": "python",
   "name": "python3"
  },
  "language_info": {
   "codemirror_mode": {
    "name": "ipython",
    "version": 3
   },
   "file_extension": ".py",
   "mimetype": "text/x-python",
   "name": "python",
   "nbconvert_exporter": "python",
   "pygments_lexer": "ipython3",
   "version": "3.11.5"
  }
 },
 "nbformat": 4,
 "nbformat_minor": 5
}
