{
 "cells": [
  {
   "cell_type": "markdown",
   "id": "b444a2b1-1b6d-4176-8d1f-530254acfdc5",
   "metadata": {},
   "source": [
    "# แบบฝึกหัด บทที่ 5 ตัวแปรและประเภทข้อมูล (Dictionary)"
   ]
  },
  {
   "cell_type": "markdown",
   "id": "b27a8a5d-2aeb-479c-a729-2551843d74cb",
   "metadata": {},
   "source": [
    "\n",
    "นาย สรรพสิทธิ์ ยาเคน 6612732132\n"
   ]
  },
  {
   "cell_type": "markdown",
   "id": "ee56ed63-0dad-4888-abb3-dac078c0177c",
   "metadata": {},
   "source": [
    "## 1.\tจงแปลงข้อมูลต่อไปนี้ให้เป็น Dictionary"
   ]
  },
  {
   "cell_type": "code",
   "execution_count": 3,
   "id": "94428f7b-4992-4b2f-9ee0-065385e26a1c",
   "metadata": {},
   "outputs": [
    {
     "data": {
      "text/plain": [
       "' \\n6611127320001 นาย ศักรินทร์ หาญทอง โรงเรียนวัดหลวงวิทยา\\n6611127320002 นาย ทวีพรโชค ดาวจันทร โรงเรียนนาเเก้ววิทยา\\n6611127320003 นาย ฐิราชัย พลหาญ โรงเรียนโขงเจียมวิทยาคม\\n6611127320004 นาย ชานนท์ รูปคุ้ม โรงเรียนบ้านกันทรารมย์\\n'"
      ]
     },
     "execution_count": 3,
     "metadata": {},
     "output_type": "execute_result"
    }
   ],
   "source": [
    "\"\"\" \n",
    "6611127320001 นาย ศักรินทร์ หาญทอง โรงเรียนวัดหลวงวิทยา\n",
    "6611127320002 นาย ทวีพรโชค ดาวจันทร โรงเรียนนาเเก้ววิทยา\n",
    "6611127320003 นาย ฐิราชัย พลหาญ โรงเรียนโขงเจียมวิทยาคม\n",
    "6611127320004 นาย ชานนท์ รูปคุ้ม โรงเรียนบ้านกันทรารมย์\n",
    "\"\"\""
   ]
  },
  {
   "cell_type": "code",
   "execution_count": 16,
   "id": "c70307d8-8404-4c4d-947f-6e357cc3a26e",
   "metadata": {
    "tags": []
   },
   "outputs": [],
   "source": [
    "# คำตอบ\n",
    "my_dict = {\n",
    "    '6611127320001' : {\n",
    "        'prefix': 'นาย',\n",
    "        'first_name': 'ศักรินทร์',\n",
    "        'last_name': 'หาญทอง',\n",
    "        'school': 'โรงเรียนวัดหลวงวิทยา',\n",
    "    },\n",
    "    '6611127320002' : {\n",
    "        'prefix': 'นาย',\n",
    "        'first_name': 'ทวีพรโชค',\n",
    "        'last_name': 'ดาวจันทร',\n",
    "        'school': 'โรงเรียนนาเเก้ววิทยา',\n",
    "    },\n",
    "    '6611127320003' : {\n",
    "        'prefix': 'นาย',\n",
    "        'first_name': 'ฐิราชัย',\n",
    "        'last_name': 'พลหาญ',\n",
    "        'school': 'โรงเรียนโขงเจียมวิทยาคม',\n",
    "    },\n",
    "    '6611127320004' : {\n",
    "        'prefix': 'นาย',\n",
    "        'first_name': 'ชานนท์',\n",
    "        'last_name': 'รูปคุ้ม',\n",
    "        'school': 'โรงเรียนบ้านกันทรารมย์',\n",
    "    }\n",
    "}"
   ]
  },
  {
   "cell_type": "markdown",
   "id": "84f776e2-52c8-471d-867f-4215479ec8ff",
   "metadata": {},
   "source": [
    "## 2.จงแสดงวิธีการเข้าถึงเข้ามูลรายบุคคล"
   ]
  },
  {
   "cell_type": "code",
   "execution_count": 17,
   "id": "cbc8398d-c456-4868-972a-9977a7fd5d8a",
   "metadata": {
    "tags": []
   },
   "outputs": [
    {
     "name": "stdout",
     "output_type": "stream",
     "text": [
      "6611127320001 นาย ศักรินทร์ หาญทอง โรงเรียนวัดหลวงวิทยา\n",
      "6611127320002 นาย ทวีพรโชค ดาวจันทร โรงเรียนนาเเก้ววิทยา\n",
      "6611127320003 นาย ฐิราชัย พลหาญ โรงเรียนโขงเจียมวิทยาคม\n",
      "6611127320004 นาย ชานนท์ รูปคุ้ม โรงเรียนบ้านกันทรารมย์\n"
     ]
    }
   ],
   "source": [
    "for key in my_dict.keys():\n",
    "    print(\"{} {} {} {} {}\".format(\n",
    "        key,\n",
    "        my_dict.get(key).get(\"prefix\"),\n",
    "        my_dict.get(key).get(\"first_name\"),\n",
    "        my_dict.get(key).get(\"last_name\"),\n",
    "        my_dict.get(key).get(\"school\"),\n",
    "    ))"
   ]
  },
  {
   "cell_type": "code",
   "execution_count": null,
   "id": "fdf2b6b6-ff6d-4b02-b5d2-acdcc9a5cc0a",
   "metadata": {},
   "outputs": [],
   "source": []
  }
 ],
 "metadata": {
  "kernelspec": {
   "display_name": "Python 3 (ipykernel)",
   "language": "python",
   "name": "python3"
  },
  "language_info": {
   "codemirror_mode": {
    "name": "ipython",
    "version": 3
   },
   "file_extension": ".py",
   "mimetype": "text/x-python",
   "name": "python",
   "nbconvert_exporter": "python",
   "pygments_lexer": "ipython3",
   "version": "3.11.5"
  }
 },
 "nbformat": 4,
 "nbformat_minor": 5
}
