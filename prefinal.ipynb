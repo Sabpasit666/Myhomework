{
 "cells": [
  {
   "cell_type": "markdown",
   "id": "cf8d8fdf-562f-456f-8d6a-c8cde53f14d2",
   "metadata": {},
   "source": [
    "# ข้อสอบเก็บคะแนน\n",
    "## วิชาการเขียนโปรแกรมเชิงวัตถุ\n",
    "## ประจำภาคการศึกษา 2/2566\n",
    "\n",
    "### สอนโดย ผู้ช่วยศาสตราจารย์พิศาล สุขขี\n",
    "\n",
    "คำชี้แจง ข้อสอบแบ่งออกเป็น 2 ส่วน (รวม 20 คะแนน)\n",
    "\n",
    "ส่วนที่ 1 : ทดสอบความรู้ความเข้าใจพื้่นฐานการเขียนโปรแกรมภาษาไพธิน 5 ข้อ ข้อละ 2 คะแนน (รวม 10 คะแนน)\n",
    "\n",
    "ส่วนที่ 2 : ทดสอบการประยุกต์แก้ไขปัญหาโจทย์โปรแกรม 2 ข้อ ข้อละ 5 คะแนน (รวม 10 คะแนน)"
   ]
  },
  {
   "cell_type": "markdown",
   "id": "6c0d0bfc-c582-43ad-addc-64534d49ae50",
   "metadata": {},
   "source": [
    "นาย สรรพสิทธิ์ ยาเคน 6612732132"
   ]
  },
  {
   "cell_type": "markdown",
   "id": "358450fe-fd91-4a16-8ad5-0ba911dadd5e",
   "metadata": {},
   "source": [
    "<hr>"
   ]
  },
  {
   "cell_type": "markdown",
   "id": "b2181e6a-5ade-4b0b-80ac-41e84325f9fc",
   "metadata": {},
   "source": [
    "# ส่วนที่ 1 ข้อละ 2 คะแนน"
   ]
  },
  {
   "cell_type": "markdown",
   "id": "6f8c1c6c-4fbe-4ad8-acb7-a8d25b65a450",
   "metadata": {},
   "source": [
    "### 1. โปรแกรมนี้ต้องการให้ผู้ใช้งานงานเลือกกรอกจำนวนใด ๆ เข้ามา เพื่อทายว่า ตัวเลขที่กรอกเข้ามาจะตรงกับตัวเลขที่ถูกเลือกไว้หรือไม่\n",
    "\n",
    "จงเติมโปรแกรมให้มีความสมบูรณ์"
   ]
  },
  {
   "cell_type": "code",
   "execution_count": null,
   "id": "79be3e47-0804-4afb-842a-129737e8986c",
   "metadata": {},
   "outputs": [],
   "source": [
    "\n",
    "1 1 1 1 1 \n",
    "2 2 2 2 \n",
    "3 3 3 \n",
    "4 4 \n",
    "5"
   ]
  },
  {
   "cell_type": "code",
   "execution_count": 33,
   "id": "fa9aea5e-a450-40e1-93bd-5840adf769d8",
   "metadata": {
    "tags": []
   },
   "outputs": [
    {
     "name": "stdin",
     "output_type": "stream",
     "text": [
      "เลขที่ทาย 1-10 คือ  3\n"
     ]
    },
    {
     "name": "stdout",
     "output_type": "stream",
     "text": [
      "คุณทายถูกแล้วค่ะ\n"
     ]
    }
   ],
   "source": [
    "# คำตอบ\n",
    "puzzle = 3 \n",
    "guess = int(input('เลขที่ทาย 1-10 คือ '))\n",
    "\n",
    "if guess == puzzle:\n",
    "    print('คุณทายถูกแล้วค่ะ')\n",
    "else:\n",
    "    print('คุณยังทายไม่ถูกค่ะ')"
   ]
  },
  {
   "cell_type": "markdown",
   "id": "38faf10a-74aa-4cc5-96a0-57f72771207e",
   "metadata": {},
   "source": [
    "## 2. จงเขียนโปรแกรมเพื่อรับค่าเข้ามาจาก keyboard แล้วตรวจสอบว่าค่าทีรับมานั้นเป็นจำนวนคู่หรือไม่\n",
    "\n",
    "ถ้่าเป็นจำนวนคู่ ให้แสดงผลออกทางหน้าจอว่า \"จำนวนคู่\"\n",
    "ถ้่าไม่เป็นจำนวนคู่ ให้แสดงผลออกทางหน้าจอว่า \"ไม่ใช่จำนวนคู่\""
   ]
  },
  {
   "cell_type": "code",
   "execution_count": 27,
   "id": "01e188b8-e7de-4029-9aa3-d3bd99c687d6",
   "metadata": {
    "tags": []
   },
   "outputs": [
    {
     "name": "stdin",
     "output_type": "stream",
     "text": [
      "ป้อนจำนวนเต็ม: 8\n"
     ]
    },
    {
     "name": "stdout",
     "output_type": "stream",
     "text": [
      "จำนวนคู่\n"
     ]
    }
   ],
   "source": [
    "# คำตอบ\n",
    "user_input = int(input('ป้อนจำนวนเต็ม:'))\n",
    "\n",
    "if user_input % 2 == 0:\n",
    "    print('จำนวนคู่')\n",
    "else:\n",
    "    print('ไม่ใช่จำนวนคุ่')"
   ]
  },
  {
   "cell_type": "markdown",
   "id": "65b7ce3b-28e0-4602-bc40-4a85f19a1e9c",
   "metadata": {},
   "source": [
    "## 3. จงเขียนโปรแกรมเพื่อรับค่าทาง keyboard แล้วตรวจสอบ ว่า\n",
    "\n",
    "- ถ้าหากจำนวนนั้นมีค่่าน้อยกว่า 10 ให้แจ้งว่า \"ค่าที่ท่านกรอก มีค่าน้อยกว่า 10\"\n",
    "- ถ้าหากจำนวนนั้นมีค่่าเท่ากับ 10 ให้แจ้งว่า \"ค่าที่ท่านกรอก มีค่าเท่ากับ 10\"\n",
    "- ถ้าหากจำนวนนั้นมีค่่ามากกว่า 10 ให้แจ้งว่า \"ค่าที่ท่านกรอก มีค่ามากกว่า 10\""
   ]
  },
  {
   "cell_type": "code",
   "execution_count": 36,
   "id": "0fe7fe4b-a04e-444d-90a4-1ca159440cb1",
   "metadata": {
    "tags": []
   },
   "outputs": [
    {
     "name": "stdin",
     "output_type": "stream",
     "text": [
      "ป้อนค่า: 9\n"
     ]
    },
    {
     "name": "stdout",
     "output_type": "stream",
     "text": [
      "ค่าที่ท่านกรอก มีค่าน้อยกว่า 10\n"
     ]
    }
   ],
   "source": [
    "# คำตอบ\n",
    "user_input = int(input('ป้อนค่า:'))\n",
    "\n",
    "if user_input < 10:\n",
    "    print('ค่าที่ท่านกรอก มีค่าน้อยกว่า 10')\n",
    "elif user_input == 10:\n",
    "    print('ค่าที่ท่านกรอก มีค่าเท่ากับ 10')\n",
    "else:\n",
    "    print('ค่าที่ท่านกรอก มีค่ามากกว่า 10')"
   ]
  },
  {
   "cell_type": "markdown",
   "id": "f2bb3c11-460d-42e0-a4c6-410e031dc89f",
   "metadata": {},
   "source": [
    "## 4. ให้เขียนโปรแกรมเพื่อตรวจสอบว่ามีเลขใดบ้างในช่วง 1 ถึง 100 ที่หารด้วย 3 ลงตัว"
   ]
  },
  {
   "cell_type": "code",
   "execution_count": 2,
   "id": "9dbec0ab-5b56-4ae7-91e9-512ddecb469e",
   "metadata": {
    "tags": []
   },
   "outputs": [
    {
     "name": "stdout",
     "output_type": "stream",
     "text": [
      "3\n",
      "6\n",
      "9\n",
      "12\n",
      "15\n",
      "18\n",
      "21\n",
      "24\n",
      "27\n",
      "30\n",
      "33\n",
      "36\n",
      "39\n",
      "42\n",
      "45\n",
      "48\n",
      "51\n",
      "54\n",
      "57\n",
      "60\n",
      "63\n",
      "66\n",
      "69\n",
      "72\n",
      "75\n",
      "78\n",
      "81\n",
      "84\n",
      "87\n",
      "90\n",
      "93\n",
      "96\n",
      "99\n"
     ]
    }
   ],
   "source": [
    "# คำตอบ\n",
    "for i in range(1,100):\n",
    "    if i % 3 == 0:\n",
    "        print(i)"
   ]
  },
  {
   "cell_type": "markdown",
   "id": "008981d7-b535-46f2-a4eb-e44ff96af393",
   "metadata": {},
   "source": [
    "## 5. จงเขียนโปรแกรมเพื่อรับค่าจาก kayboard เข้ามาเรื่อย ๆ และเก็บค่านั้นไว้ใน List จนกว่าผู้ใช้จะป้อน 'q'\n"
   ]
  },
  {
   "cell_type": "code",
   "execution_count": 42,
   "id": "ab73ce7c-116f-44ec-8be9-a6643cd8089b",
   "metadata": {
    "tags": []
   },
   "outputs": [
    {
     "name": "stdin",
     "output_type": "stream",
     "text": [
      "ป้อนค่า (หากต้องการหยุดกรุณาป้อน 'q'):  5\n",
      "ป้อนค่า (หากต้องการหยุดกรุณาป้อน 'q'):  q\n"
     ]
    },
    {
     "name": "stdout",
     "output_type": "stream",
     "text": [
      "ค่าทั้งหมดที่เก็บไว้ใน List: ['5']\n"
     ]
    }
   ],
   "source": [
    "# คำตอบ\n",
    "my_list = []\n",
    "\n",
    "while True:\n",
    "    user_input = input(\"ป้อนค่า (หากต้องการหยุดกรุณาป้อน 'q'): \")\n",
    "    \n",
    "    if user_input.lower() == 'q':\n",
    "        break\n",
    "        \n",
    "    my_list.append(user_input)\n",
    "print(\"ค่าทั้งหมดที่เก็บไว้ใน List:\", my_list)"
   ]
  },
  {
   "cell_type": "code",
   "execution_count": null,
   "id": "64d5aca3-3252-4a6c-9585-c56312b78bab",
   "metadata": {},
   "outputs": [],
   "source": [
    "my_str = 'Python Data Types: Dictionary - Exercises, Practice, Solution'"
   ]
  },
  {
   "cell_type": "code",
   "execution_count": null,
   "id": "df8569e5-cd69-4598-adba-5cc3948fae42",
   "metadata": {},
   "outputs": [],
   "source": [
    "# คำตอบ\n",
    "\n"
   ]
  },
  {
   "cell_type": "markdown",
   "id": "d4ed0cfb-9f00-4882-aa63-8f6d576bbdd6",
   "metadata": {},
   "source": [
    "<hr>"
   ]
  },
  {
   "cell_type": "markdown",
   "id": "d7ae6696-874c-44a1-9067-c8e339df4246",
   "metadata": {},
   "source": [
    "# ส่วนที่ 2 ข้อละ 5 คะแนน"
   ]
  },
  {
   "cell_type": "markdown",
   "id": "bb278ca2-30bf-45ae-9d24-9f1807c0d1fb",
   "metadata": {},
   "source": [
    "## 6. จงเขียนโปรแกรมเพื่อให้แสดงในรูปแบบดังต่อไปนี้"
   ]
  },
  {
   "cell_type": "code",
   "execution_count": null,
   "id": "ea341ede-ee01-4c71-a6aa-b7557a580952",
   "metadata": {},
   "outputs": [],
   "source": [
    "'''\n",
    "1 1 1 1 1 \n",
    "2 2 2 2 \n",
    "3 3 3 \n",
    "4 4 \n",
    "5\n",
    "'''"
   ]
  },
  {
   "cell_type": "code",
   "execution_count": 41,
   "id": "148c82f0-8684-4394-b211-dc5420ff15b7",
   "metadata": {
    "tags": []
   },
   "outputs": [
    {
     "name": "stdout",
     "output_type": "stream",
     "text": [
      "1 1 1 1 1 \n",
      "2 2 2 2 \n",
      "3 3 3 \n",
      "4 4 \n",
      "5 \n"
     ]
    }
   ],
   "source": [
    "# คำตอบ\n",
    "rows = 5\n",
    "\n",
    "for i in range(1, rows + 1):\n",
    "    for j in range(1, rows - i + 2):\n",
    "        print(i, end=' ')\n",
    "    print()"
   ]
  },
  {
   "cell_type": "markdown",
   "id": "2d3e9f69-b89e-430b-a310-c443bf95f659",
   "metadata": {},
   "source": [
    "## 7. จงเขียนโปรแกรมเพื่อให้แสดงในรูปแบบดังต่อไปนี้"
   ]
  },
  {
   "cell_type": "code",
   "execution_count": null,
   "id": "eafb188c-e33d-46c9-a403-c97c16c066ca",
   "metadata": {},
   "outputs": [],
   "source": [
    "'''\n",
    "1 \n",
    "1 2 \n",
    "1 2 3 \n",
    "1 2 3 4 \n",
    "1 2 3 4 5\n",
    "'''"
   ]
  },
  {
   "cell_type": "code",
   "execution_count": 12,
   "id": "07acb60a-a82d-4b51-8589-28caab76afc6",
   "metadata": {
    "tags": []
   },
   "outputs": [
    {
     "name": "stdout",
     "output_type": "stream",
     "text": [
      "1 \n",
      "1 2 \n",
      "1 2 3 \n",
      "1 2 3 4 \n",
      "1 2 3 4 5 \n"
     ]
    }
   ],
   "source": [
    "# คำตอบ\n",
    "for i in range(1, 6):\n",
    "    for j in range(1, i + 1):  \n",
    "        print(j, end=' ')  \n",
    "    print()"
   ]
  },
  {
   "cell_type": "markdown",
   "id": "a68243aa-a5f9-43ba-bdac-8a6e584fa436",
   "metadata": {},
   "source": [
    "<hr>"
   ]
  },
  {
   "cell_type": "markdown",
   "id": "84e801c6-bb0e-4b5a-a792-5e7026806225",
   "metadata": {},
   "source": [
    "**ข้อให้ทุกคนโชคดีในการสอบ**<br>\n",
    "ผู้ช่วยศาสตราจารย์พิศาล สุขขี<br>\n",
    "สาขาวิทยาการคอมพิวเตอร์<br>\n",
    "มหาวิทยาลัยราชภัฏศรีสะเกษ"
   ]
  }
 ],
 "metadata": {
  "kernelspec": {
   "display_name": "Python 3 (ipykernel)",
   "language": "python",
   "name": "python3"
  },
  "language_info": {
   "codemirror_mode": {
    "name": "ipython",
    "version": 3
   },
   "file_extension": ".py",
   "mimetype": "text/x-python",
   "name": "python",
   "nbconvert_exporter": "python",
   "pygments_lexer": "ipython3",
   "version": "3.11.5"
  }
 },
 "nbformat": 4,
 "nbformat_minor": 5
}
