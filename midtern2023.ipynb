{
 "cells": [
  {
   "cell_type": "markdown",
   "id": "cf8d8fdf-562f-456f-8d6a-c8cde53f14d2",
   "metadata": {},
   "source": [
    "# ข้อสอบกลางภาค\n",
    "## วิชาการเขียนโปรแกรมเชิงวัตถุ\n",
    "## ประจำภาคการศึกษา 2/2566\n",
    "\n",
    "### สอนโดย ผู้ช่วยศาสตราจารย์พิศาล สุขขี\n",
    "\n",
    "คำชี้แจง ข้อสอบแบ่งออกเป็น 2 ส่วน (รวม 30 คะแนน)\n",
    "\n",
    "ส่วนที่ 1 : ทดสอบความรู้ความเข้าใจพื้่นฐานการเขียนโปรแกรมภาษาไพธิน 10 ข้อ ข้อละ 2 คะแนน (รวม 20 คะแนน)\n",
    "\n",
    "ส่วนที่ 2 : ทดสอบการประยุกต์แก้ไขปัญหาโจทย์โปรแกรม 2 ข้อ ข้อละ 5 คะแนน (รวม 10 คะแนน)"
   ]
  },
  {
   "cell_type": "markdown",
   "id": "4e633d14-c3e2-4161-9a3e-0c4974ac56f1",
   "metadata": {
    "tags": []
   },
   "source": [
    "นาย สรรพสิทธิ์ ยาเคน 661272132"
   ]
  },
  {
   "cell_type": "markdown",
   "id": "358450fe-fd91-4a16-8ad5-0ba911dadd5e",
   "metadata": {},
   "source": [
    "<hr>"
   ]
  },
  {
   "cell_type": "markdown",
   "id": "b2181e6a-5ade-4b0b-80ac-41e84325f9fc",
   "metadata": {},
   "source": [
    "# ส่วนที่ 1 ข้อละ 2 คะแนน"
   ]
  },
  {
   "cell_type": "markdown",
   "id": "6f8c1c6c-4fbe-4ad8-acb7-a8d25b65a450",
   "metadata": {},
   "source": [
    "### 1. กำหนดให้ a = 0.5155675 จงแสดงค่าของตัวแปร a ในรูปแบบทศนิยม 2 ตำแหน่ง"
   ]
  },
  {
   "cell_type": "code",
   "execution_count": 22,
   "id": "fa9aea5e-a450-40e1-93bd-5840adf769d8",
   "metadata": {
    "tags": []
   },
   "outputs": [
    {
     "name": "stdout",
     "output_type": "stream",
     "text": [
      "a : 0.52 \n"
     ]
    }
   ],
   "source": [
    "# คำตอบ\n",
    "a = 0.5155675\n",
    "print(\"a : {0:.2f} \".format(a))"
   ]
  },
  {
   "cell_type": "markdown",
   "id": "38faf10a-74aa-4cc5-96a0-57f72771207e",
   "metadata": {},
   "source": [
    "## 2. กำหนดให้นิพจน์คณิตศาสตร์ \n",
    "\n",
    "$ 1 + 6 \\times 8 - 7 $\n",
    "\n",
    "มีผลลัพธ์ของการดำเนินการเท่ากับ 7\n",
    "\n",
    "แสดงแทนนิพจน์ด้านบนด้วยโปรแกรมโปรแกรมภาษาไพธอนที่ให้ค่าลัพธ์ตามที่กำหนด"
   ]
  },
  {
   "cell_type": "code",
   "execution_count": 65,
   "id": "01e188b8-e7de-4029-9aa3-d3bd99c687d6",
   "metadata": {
    "tags": []
   },
   "outputs": [
    {
     "name": "stdout",
     "output_type": "stream",
     "text": [
      "7\n"
     ]
    }
   ],
   "source": [
    "result = 1 * 6 + 8 - 7\n",
    "print(result)"
   ]
  },
  {
   "cell_type": "markdown",
   "id": "65b7ce3b-28e0-4602-bc40-4a85f19a1e9c",
   "metadata": {},
   "source": [
    "## 3. จงแทนนิพจน์คณิตศาสตร์ต่อไปนี้ให้เป็นโปรแกรมภาษาไพธอน\n",
    "\n",
    "$ \\frac{5 + 6^{2.5}}{\\sqrt[2]{3.5}} + 3^2 $"
   ]
  },
  {
   "cell_type": "code",
   "execution_count": 47,
   "id": "0fe7fe4b-a04e-444d-90a4-1ca159440cb1",
   "metadata": {
    "tags": []
   },
   "outputs": [
    {
     "name": "stdout",
     "output_type": "stream",
     "text": [
      "323.35921676911454\n"
     ]
    }
   ],
   "source": [
    "import math\n",
    "\n",
    "result = 5 + 62.5 * 3.5 * math.sqrt(2) + 3**2\n",
    "print(result)"
   ]
  },
  {
   "cell_type": "markdown",
   "id": "f2bb3c11-460d-42e0-a4c6-410e031dc89f",
   "metadata": {},
   "source": [
    "## 4. การดำเนินการกับลิสต์\n",
    "\n",
    "my_list = [10, 20, 30, 40, 50, 60, 70, 80, 90, 100]\n",
    "\n",
    "จงเลือกสมาชิกตัวที่ 2 จนถึงตัวที่ 5"
   ]
  },
  {
   "cell_type": "code",
   "execution_count": 55,
   "id": "9dbec0ab-5b56-4ae7-91e9-512ddecb469e",
   "metadata": {
    "tags": []
   },
   "outputs": [
    {
     "name": "stdout",
     "output_type": "stream",
     "text": [
      "(20, 30, 40, 50)\n"
     ]
    }
   ],
   "source": [
    "my_list = 10, 20, 30, 40, 50, 60, 70, 80, 90, 100\n",
    "selected_items = my_list[1:5]\n",
    "print(selected_items)"
   ]
  },
  {
   "cell_type": "markdown",
   "id": "008981d7-b535-46f2-a4eb-e44ff96af393",
   "metadata": {},
   "source": [
    "## 5. จงแปลงข้อมูลต่อไปนี้ให้อยู่ในรูปของ Dictionary\n",
    "\n",
    "| รหัสนักศึกษา | ชื่อ |           สกุล           |\n",
    "|:---------:|:--------:|:--------------------------:|\n",
    "|    6612732101    |  นายกรวีร์     |           จูมจันทร์          |\n",
    "|    6612732102    |  นายกฤษณ     |           สุขไชยญาติ          |\n",
    "|    6612732103    |  นายกิตตินันท์   | สองศร |\n"
   ]
  },
  {
   "cell_type": "code",
   "execution_count": 12,
   "id": "5a167a67-4545-4592-875f-c94e71565c65",
   "metadata": {
    "tags": []
   },
   "outputs": [],
   "source": [
    "student_dict = {\n",
    "    '6612732101' : {\n",
    "            'prefix' : 'นาย',\n",
    "            'first_name' : 'กรวีร์',\n",
    "            'last_name' : 'จูมจันทร์'\n",
    "    },\n",
    "    '6612732101' : {\n",
    "            'prefix' : 'นาย',\n",
    "            'first_name' : 'กฤษณ',\n",
    "            'last_name' : 'สุขไชยญาติ'\n",
    "    },\n",
    "    '6612732101' : {\n",
    "            'prefix' : 'นาย',\n",
    "            'first_name' : 'กิตตินันท์',\n",
    "            'last_name' : 'สองศร'\n",
    "    }\n",
    "   \n",
    "}"
   ]
  },
  {
   "cell_type": "markdown",
   "id": "b8d004f7-a697-4375-8754-1d9c78fd0acf",
   "metadata": {},
   "source": [
    "## 6. จากข้อ 5 จงแสดงวิธีการเข้าถึงข้อมูลของ นายกิตตินันท์ สองศร"
   ]
  },
  {
   "cell_type": "code",
   "execution_count": 19,
   "id": "a1670bee-bfc7-4388-a103-bfc747d15fed",
   "metadata": {
    "tags": []
   },
   "outputs": [
    {
     "name": "stdout",
     "output_type": "stream",
     "text": [
      "6612732101 นาย กิตตินันท์ สองศร \n"
     ]
    }
   ],
   "source": [
    "for key in student_dict.keys():\n",
    "    print(\"{} {} {} {} \".format(\n",
    "        key,\n",
    "        student_dict.get(key).get(\"prefix\"),\n",
    "        student_dict.get(key).get(\"first_name\"),\n",
    "        student_dict.get(key).get(\"last_name\"),\n",
    "    ))"
   ]
  },
  {
   "cell_type": "markdown",
   "id": "1bd67d79-977d-4536-b666-6407a36f41af",
   "metadata": {},
   "source": [
    "## 7. จงพิจารณาเงื่อนไขและพิมพ์ชุดคำสั่งแทนส่วนที่เว้นว่างไว้\n",
    "\n",
    "จงตั้งเงื่อนไขเพื่อควบคุมการพิมพ์ชื่อของนักเรียนแต่ละคนและความสูงออกมา โดยจะพิมพ์ออกมาเฉพาะคนที่ชื่อนำหน้าด้วยตัวอักษรอื่น<u>**ที่ไม่ใช่**</u> `'A'` และ<u>**ไม่ใช่**</u> `'C'` และมีความสูงมากกว่า 160 เซนติเมตรเท่านั้น"
   ]
  },
  {
   "cell_type": "code",
   "execution_count": 56,
   "id": "ff54cd09-d5f8-44b7-b96b-d9fc76f03fab",
   "metadata": {
    "tags": []
   },
   "outputs": [
    {
     "ename": "TypeError",
     "evalue": "'int' object is not callable",
     "output_type": "error",
     "traceback": [
      "\u001b[1;31m---------------------------------------------------------------------------\u001b[0m",
      "\u001b[1;31mTypeError\u001b[0m                                 Traceback (most recent call last)",
      "Cell \u001b[1;32mIn[56], line 4\u001b[0m\n\u001b[0;32m      1\u001b[0m student_names \u001b[38;5;241m=\u001b[39m [\u001b[38;5;124m'\u001b[39m\u001b[38;5;124mArm\u001b[39m\u001b[38;5;124m'\u001b[39m, \u001b[38;5;124m'\u001b[39m\u001b[38;5;124mBobby\u001b[39m\u001b[38;5;124m'\u001b[39m, \u001b[38;5;124m'\u001b[39m\u001b[38;5;124mCathy\u001b[39m\u001b[38;5;124m'\u001b[39m, \u001b[38;5;124m'\u001b[39m\u001b[38;5;124mDorothy\u001b[39m\u001b[38;5;124m'\u001b[39m, \u001b[38;5;124m'\u001b[39m\u001b[38;5;124mEmily\u001b[39m\u001b[38;5;124m'\u001b[39m]\n\u001b[0;32m      2\u001b[0m student_heights \u001b[38;5;241m=\u001b[39m [\u001b[38;5;241m163.5\u001b[39m, \u001b[38;5;241m150.0\u001b[39m, \u001b[38;5;241m167.0\u001b[39m, \u001b[38;5;241m161.25\u001b[39m, \u001b[38;5;241m170.0\u001b[39m]\n\u001b[1;32m----> 4\u001b[0m \u001b[38;5;28;01mfor\u001b[39;00m i \u001b[38;5;129;01min\u001b[39;00m \u001b[38;5;28mrange\u001b[39m(\u001b[38;5;28mlen\u001b[39m(student_names)):\n\u001b[0;32m      5\u001b[0m     \u001b[38;5;28;01mif\u001b[39;00m student_names[i][\u001b[38;5;241m0\u001b[39m] \u001b[38;5;129;01mnot\u001b[39;00m \u001b[38;5;129;01min\u001b[39;00m [\u001b[38;5;124m'\u001b[39m\u001b[38;5;124mA\u001b[39m\u001b[38;5;124m'\u001b[39m, \u001b[38;5;124m'\u001b[39m\u001b[38;5;124mC\u001b[39m\u001b[38;5;124m'\u001b[39m] \u001b[38;5;129;01mand\u001b[39;00m student_heights[i] \u001b[38;5;241m>\u001b[39m \u001b[38;5;241m160.0\u001b[39m:\n\u001b[0;32m      6\u001b[0m         \u001b[38;5;28mprint\u001b[39m(student_names[i], \u001b[38;5;124m'\u001b[39m\u001b[38;5;124m:\u001b[39m\u001b[38;5;124m'\u001b[39m, student_heights[i])\n",
      "\u001b[1;31mTypeError\u001b[0m: 'int' object is not callable"
     ]
    }
   ],
   "source": [
    "student_names = ['Arm', 'Bobby', 'Cathy', 'Dorothy', 'Emily']\n",
    "student_heights = [163.5, 150.0, 167.0, 161.25, 170.0]\n",
    "\n",
    "for i in range(len(student_names)):\n",
    "    if student_names[i][0] not in ['A', 'C'] and student_heights[i] > 160.0:\n",
    "        print(student_names[i], ':', student_heights[i])"
   ]
  },
  {
   "cell_type": "markdown",
   "id": "c160e6de-604f-40c3-9014-461c8560c5ae",
   "metadata": {},
   "source": [
    "## 8. โปรแกรมสูตรคูณอย่างง่าย\n",
    "\n",
    "จงวนลูปเพื่อแสดงสูตรคูณแม่ 3 ไล่ตั้งแต่ 3×1 จนถึง 3×12 โดยจะได้ผลลัพธ์ดังนี้"
   ]
  },
  {
   "cell_type": "raw",
   "id": "5fbc1481-08fc-44c5-bcdb-91a8ced25234",
   "metadata": {},
   "source": [
    "3 * 1 = 3\n",
    "3 * 2 = 6\n",
    "3 * 3 = 9\n",
    ":\n",
    ":\n",
    ":\n",
    "3 * 12 = 36"
   ]
  },
  {
   "cell_type": "code",
   "execution_count": 104,
   "id": "10fea36b-a4e2-40e1-9c5e-27b749ba41a3",
   "metadata": {
    "tags": []
   },
   "outputs": [
    {
     "ename": "TypeError",
     "evalue": "'int' object is not callable",
     "output_type": "error",
     "traceback": [
      "\u001b[1;31m---------------------------------------------------------------------------\u001b[0m",
      "\u001b[1;31mTypeError\u001b[0m                                 Traceback (most recent call last)",
      "Cell \u001b[1;32mIn[104], line 1\u001b[0m\n\u001b[1;32m----> 1\u001b[0m \u001b[38;5;28;01mfor\u001b[39;00m i \u001b[38;5;129;01min\u001b[39;00m \u001b[38;5;28mrange\u001b[39m(\u001b[38;5;241m1\u001b[39m, \u001b[38;5;241m13\u001b[39m):\n\u001b[0;32m      2\u001b[0m     result \u001b[38;5;241m=\u001b[39m \u001b[38;5;241m3\u001b[39m \u001b[38;5;241m*\u001b[39m i\n\u001b[0;32m      3\u001b[0m     \u001b[38;5;28mprint\u001b[39m(\u001b[38;5;124mf\u001b[39m\u001b[38;5;124m\"\u001b[39m\u001b[38;5;124m3 x \u001b[39m\u001b[38;5;132;01m{\u001b[39;00mi\u001b[38;5;132;01m}\u001b[39;00m\u001b[38;5;124m = \u001b[39m\u001b[38;5;132;01m{\u001b[39;00mresult\u001b[38;5;132;01m}\u001b[39;00m\u001b[38;5;124m\"\u001b[39m)\n",
      "\u001b[1;31mTypeError\u001b[0m: 'int' object is not callable"
     ]
    }
   ],
   "source": [
    "for i in range(1, 13):\n",
    "    result = 3 * i\n",
    "    print(f\"3 x {i} = {result}\")"
   ]
  },
  {
   "cell_type": "markdown",
   "id": "6b55d8a8-a187-47bf-8db4-8194138417b1",
   "metadata": {},
   "source": [
    "## 9. เขียนฟังก์ชันเพื่อแยกชื่อ และนามสกุลออกจากัน พร้อมแสดงทางหน้าจอ"
   ]
  },
  {
   "cell_type": "code",
   "execution_count": 26,
   "id": "ab73ce7c-116f-44ec-8be9-a6643cd8089b",
   "metadata": {},
   "outputs": [],
   "source": [
    "full_names = ['Harry Potter', \n",
    "              'Hermione Granger', \n",
    "              'Ronald Weasley']"
   ]
  },
  {
   "cell_type": "code",
   "execution_count": 90,
   "id": "d5251924-cab7-484f-8d20-f821b1d7e8b2",
   "metadata": {
    "tags": []
   },
   "outputs": [
    {
     "name": "stdout",
     "output_type": "stream",
     "text": [
      "Harry Potter\n",
      "Hermione Granger\n",
      "Ronald Weasley\n"
     ]
    }
   ],
   "source": [
    "# คำตอบ\n",
    "\n",
    "# กำหนดฟังก์ชัน\n",
    "def print_name(names):\n",
    "    for name in names:\n",
    "        print(name)\n",
    "\n",
    "\n",
    "# กำหนดตัวแปร\n",
    "full_names = ['Harry Potter', \n",
    "              'Hermione Granger', \n",
    "              'Ronald Weasley']\n",
    "\n",
    "# เรียกใช้งานฟังก์ชัน\n",
    "print_name(full_names)"
   ]
  },
  {
   "cell_type": "markdown",
   "id": "17f27efb-d0e3-4d4d-895c-89d2516ac5b8",
   "metadata": {},
   "source": [
    "## 10. จงแปลงขอความให้เป็นตัวอักษรเล็กทั้งหมด"
   ]
  },
  {
   "cell_type": "code",
   "execution_count": 17,
   "id": "64d5aca3-3252-4a6c-9585-c56312b78bab",
   "metadata": {},
   "outputs": [],
   "source": [
    "my_str = 'Python Data Types: Dictionary - Exercises, Practice, Solution'"
   ]
  },
  {
   "cell_type": "code",
   "execution_count": 67,
   "id": "df8569e5-cd69-4598-adba-5cc3948fae42",
   "metadata": {
    "tags": []
   },
   "outputs": [
    {
     "name": "stdout",
     "output_type": "stream",
     "text": [
      "python data types: dictionary - exercises, practice, solution\n"
     ]
    }
   ],
   "source": [
    "my_str = 'Python Data Types: Dictionary - Exercises, Practice, Solution'\n",
    "lowercase_str = my_str.lower()\n",
    "print(lowercase_str)"
   ]
  },
  {
   "cell_type": "markdown",
   "id": "d4ed0cfb-9f00-4882-aa63-8f6d576bbdd6",
   "metadata": {},
   "source": [
    "<hr>"
   ]
  },
  {
   "cell_type": "markdown",
   "id": "d7ae6696-874c-44a1-9067-c8e339df4246",
   "metadata": {},
   "source": [
    "# ส่วนที่ 2 ข้อละ 5 คะแนน"
   ]
  },
  {
   "cell_type": "markdown",
   "id": "bb278ca2-30bf-45ae-9d24-9f1807c0d1fb",
   "metadata": {},
   "source": [
    "## 11. โปรแกรมคำนวนภาษีมูลค่าเพิ่ม"
   ]
  },
  {
   "cell_type": "markdown",
   "id": "ff99d256-0eb7-4a68-a471-71dcbd871336",
   "metadata": {},
   "source": [
    "จงเขียนโปรแกรม เพื่อคํานวณ หาภาษีมูลค่าเพิ่มของบริการ โดยให้มีการทำงานดังนี้ คือ รับราคาบริการ จากนั้นคำนวณหาค่าบริการที่รวมภาษีมูลค่าเพิ่มแล้ว และทำการแสดงผลดังตัวอย่าง"
   ]
  },
  {
   "cell_type": "code",
   "execution_count": null,
   "id": "1c2defd1-fa59-4f0a-887e-8a9918154ced",
   "metadata": {},
   "outputs": [],
   "source": [
    "# ตัวอย่างการทำงาน 1\n",
    "\n",
    "Enter Service Price : 1000\n",
    "\n",
    "Service Price\n",
    "Price : 1000\n",
    "Vat : 70\n",
    "Total Price : 1070\n",
    " \n",
    "Thank you.\n",
    "\n",
    "# ตัวอย่างการทำงาน 2\n",
    "\n",
    "Enter Service Price : 500\n",
    "\n",
    "Service Price\n",
    "Price : 500\n",
    "Vat : 35\n",
    "Total Price : 535\n",
    " \n",
    "\n",
    "Thank you."
   ]
  },
  {
   "cell_type": "markdown",
   "id": "f8ee1a6e-b2d1-4843-94de-a78494142465",
   "metadata": {},
   "source": [
    "ข้อมูลเพิ่มเติม\n",
    "\n",
    "1) สามารถหาภาษีมูลค่าเพิ่ม (Vat) ได้จากสูตร ราคาสินค้า * ( 7  / 100 )\n",
    "2) ราคารวมภาษีมูลค่าเพิ่ม หาได้จากสูตร ราคาสินค้า + Vat ที่หาได้"
   ]
  },
  {
   "cell_type": "code",
   "execution_count": 91,
   "id": "148c82f0-8684-4394-b211-dc5420ff15b7",
   "metadata": {
    "tags": []
   },
   "outputs": [
    {
     "name": "stdin",
     "output_type": "stream",
     "text": [
      "Enter Service Price:  1000\n"
     ]
    },
    {
     "name": "stdout",
     "output_type": "stream",
     "text": [
      "\n",
      "Service Price\n",
      "Price : 1000.00\n",
      "Vat   : 70.00\n",
      "Total Price : 1070.00\n",
      "\n"
     ]
    }
   ],
   "source": [
    "# คำตอบ\n",
    "service_price = float(input(\"Enter Service Price: \"))\n",
    "vat = service_price * 0.07\n",
    "total_price = service_price + vat\n",
    "print(\"\\nService Price\")\n",
    "print(f\"Price : {service_price:.2f}\")\n",
    "print(f\"Vat   : {vat:.2f}\")\n",
    "print(f\"Total Price : {total_price:.2f}\\n\")\n"
   ]
  },
  {
   "cell_type": "markdown",
   "id": "2d3e9f69-b89e-430b-a310-c443bf95f659",
   "metadata": {},
   "source": [
    "## 12. โปรแกรมคำนวนค่าเรียนพิเศษ"
   ]
  },
  {
   "cell_type": "markdown",
   "id": "f96b8690-f3e4-4173-9a63-898c50cff8df",
   "metadata": {},
   "source": [
    "จงเขียนโปรแกรมคำนวณค่าเรียนพิเศษของ ติวเตอร์คณิตศาสตร์ แห่งหนึ่ง โดย ติวเตอร์แห่งนี้ คิดค่าเรียนเป็นรายชั่วโมง\n",
    "\n",
    "ชั่วโมงละ 450 บาท และจ่ายเป็นแบบครั้งต่อครั้ง\n",
    "\n",
    "โดยให้โปรแกรมมีการรับค่าจำนวนช่วงโมงที่สอน และมีรูปแบบการทำงานและแสดงผลตามตัวอย่างต่อไปนี้"
   ]
  },
  {
   "cell_type": "raw",
   "id": "87ca34cb-e197-4570-99fa-25a3f066c842",
   "metadata": {},
   "source": [
    "ตัวอย่างการทำงาน ครั้งที่ 1\n",
    "\n",
    "RUN : ทดสอบด้วยการป้อนจำนวนชั่วโมงที่เรียนเป็น 5 ชั่วโมง\n",
    "\n",
    "Enter Hour : 5\n",
    "Total : 2250\n",
    "\n",
    "ตัวอย่างการทำงาน ครั้งที่ 2\n",
    "\n",
    "RUN : ทดสอบด้วยการป้อนจำนวนชั่วโมงที่เรียนเป็น 1 ชั่วโมง\n",
    "\n",
    "Enter Hour : 1\n",
    "Total : 450"
   ]
  },
  {
   "cell_type": "code",
   "execution_count": 103,
   "id": "07acb60a-a82d-4b51-8589-28caab76afc6",
   "metadata": {
    "tags": []
   },
   "outputs": [
    {
     "name": "stdin",
     "output_type": "stream",
     "text": [
      "Enter Hour:  450\n"
     ]
    },
    {
     "name": "stdout",
     "output_type": "stream",
     "text": [
      "\n",
      "Total: 202500\n"
     ]
    }
   ],
   "source": [
    "# คำตอบ\n",
    "hours = int(input(\"Enter Hour: \"))\n",
    "total_fee = hours * 450\n",
    "print(\"\\nTotal:\", total_fee)"
   ]
  },
  {
   "cell_type": "markdown",
   "id": "a68243aa-a5f9-43ba-bdac-8a6e584fa436",
   "metadata": {},
   "source": [
    "<hr>"
   ]
  },
  {
   "cell_type": "markdown",
   "id": "84e801c6-bb0e-4b5a-a792-5e7026806225",
   "metadata": {},
   "source": [
    "**ข้อให้ทุกคนโชคดีในการสอบ**<br>\n",
    "ผู้ช่วยศาสตราจารย์พิศาล สุขขี<br>\n",
    "สาขาวิทยาการคอมพิวเตอร์<br>\n",
    "มหาวิทยาลัยราชภัฏศรีสะเกษ"
   ]
  }
 ],
 "metadata": {
  "kernelspec": {
   "display_name": "Python 3 (ipykernel)",
   "language": "python",
   "name": "python3"
  },
  "language_info": {
   "codemirror_mode": {
    "name": "ipython",
    "version": 3
   },
   "file_extension": ".py",
   "mimetype": "text/x-python",
   "name": "python",
   "nbconvert_exporter": "python",
   "pygments_lexer": "ipython3",
   "version": "3.11.5"
  }
 },
 "nbformat": 4,
 "nbformat_minor": 5
}
